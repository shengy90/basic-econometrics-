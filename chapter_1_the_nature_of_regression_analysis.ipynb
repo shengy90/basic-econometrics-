{
  "nbformat": 4,
  "nbformat_minor": 0,
  "metadata": {
    "colab": {
      "name": "chapter 1 - the nature of regression analysis.ipynb",
      "provenance": [],
      "collapsed_sections": [
        "BiTa7J-kP6e0",
        "kMsBZRWjcySY",
        "5FPg6fOxkeJ7"
      ],
      "authorship_tag": "ABX9TyOt7yXEGqIG/KCGlXEhVsPW",
      "include_colab_link": true
    },
    "kernelspec": {
      "name": "python3",
      "display_name": "Python 3"
    }
  },
  "cells": [
    {
      "cell_type": "markdown",
      "metadata": {
        "id": "view-in-github",
        "colab_type": "text"
      },
      "source": [
        "<a href=\"https://colab.research.google.com/github/shengy90/basic-econometrics-/blob/master/chapter_1_the_nature_of_regression_analysis.ipynb\" target=\"_parent\"><img src=\"https://colab.research.google.com/assets/colab-badge.svg\" alt=\"Open In Colab\"/></a>"
      ]
    },
    {
      "cell_type": "code",
      "metadata": {
        "id": "opuxrvnfP-Q0",
        "colab_type": "code",
        "colab": {
          "base_uri": "https://localhost:8080/",
          "height": 71
        },
        "outputId": "277cadd4-3508-453e-f4d9-c4d343abe948"
      },
      "source": [
        "import pandas as pd\n",
        "import numpy as np\n",
        "import seaborn as sns; sns.set()\n",
        "import matplotlib.pyplot as plt \n",
        "\n",
        "% matplotlib inline"
      ],
      "execution_count": 1,
      "outputs": [
        {
          "output_type": "stream",
          "text": [
            "/usr/local/lib/python3.6/dist-packages/statsmodels/tools/_testing.py:19: FutureWarning: pandas.util.testing is deprecated. Use the functions in the public API at pandas.testing instead.\n",
            "  import pandas.util.testing as tm\n"
          ],
          "name": "stderr"
        }
      ]
    },
    {
      "cell_type": "markdown",
      "metadata": {
        "id": "Wcoy9M6SNngU",
        "colab_type": "text"
      },
      "source": [
        "#### **Load data from github**\n"
      ]
    },
    {
      "cell_type": "code",
      "metadata": {
        "id": "OQluhvMYN__e",
        "colab_type": "code",
        "colab": {}
      },
      "source": [
        "import pandas as pd \n",
        "url_table1_3 = \"https://raw.githubusercontent.com/shengy90/basic-econometrics-/master/datasets/table1_3.csv\"\n",
        "url_table1_4 = \"https://raw.githubusercontent.com/shengy90/basic-econometrics-/master/datasets/table1_4.csv\"\n",
        "url_table1_5 = \"https://raw.githubusercontent.com/shengy90/basic-econometrics-/master/datasets/table1_5.csv\"\n",
        "url_table1_6 = \"https://raw.githubusercontent.com/shengy90/basic-econometrics-/master/datasets/table1_6.csv\"\n",
        "table1_3 = pd.read_csv(url_table1_3, thousands=r',')\n",
        "table1_4 = pd.read_csv(url_table1_4, thousands=r',')\n",
        "table1_5 = pd.read_csv(url_table1_5, thousands=r',')\n",
        "table1_6 = pd.read_csv(url_table1_6, thousands=r',')"
      ],
      "execution_count": 0,
      "outputs": []
    },
    {
      "cell_type": "code",
      "metadata": {
        "id": "UJBPZV-3ZZhH",
        "colab_type": "code",
        "outputId": "0c7ed8a6-cbcb-4c6c-a3f9-3aaaf05fb5d7",
        "colab": {
          "base_uri": "https://localhost:8080/",
          "height": 235
        }
      },
      "source": [
        "table1_3.index = table1_3['Year']\n",
        "table1_3.drop(columns=['Year'], inplace=True)\n",
        "table1_3.head(5)"
      ],
      "execution_count": 3,
      "outputs": [
        {
          "output_type": "execute_result",
          "data": {
            "text/html": [
              "<div>\n",
              "<style scoped>\n",
              "    .dataframe tbody tr th:only-of-type {\n",
              "        vertical-align: middle;\n",
              "    }\n",
              "\n",
              "    .dataframe tbody tr th {\n",
              "        vertical-align: top;\n",
              "    }\n",
              "\n",
              "    .dataframe thead th {\n",
              "        text-align: right;\n",
              "    }\n",
              "</style>\n",
              "<table border=\"1\" class=\"dataframe\">\n",
              "  <thead>\n",
              "    <tr style=\"text-align: right;\">\n",
              "      <th></th>\n",
              "      <th>USA</th>\n",
              "      <th>Canada</th>\n",
              "      <th>Japan</th>\n",
              "      <th>France</th>\n",
              "      <th>Germany</th>\n",
              "      <th>Italy</th>\n",
              "      <th>UK</th>\n",
              "    </tr>\n",
              "    <tr>\n",
              "      <th>Year</th>\n",
              "      <th></th>\n",
              "      <th></th>\n",
              "      <th></th>\n",
              "      <th></th>\n",
              "      <th></th>\n",
              "      <th></th>\n",
              "      <th></th>\n",
              "    </tr>\n",
              "  </thead>\n",
              "  <tbody>\n",
              "    <tr>\n",
              "      <th>1980</th>\n",
              "      <td>82.4</td>\n",
              "      <td>76.1</td>\n",
              "      <td>90.9</td>\n",
              "      <td>72.3</td>\n",
              "      <td>86.7</td>\n",
              "      <td>63.2</td>\n",
              "      <td>78.5</td>\n",
              "    </tr>\n",
              "    <tr>\n",
              "      <th>1981</th>\n",
              "      <td>90.9</td>\n",
              "      <td>85.6</td>\n",
              "      <td>95.3</td>\n",
              "      <td>81.9</td>\n",
              "      <td>92.2</td>\n",
              "      <td>75.4</td>\n",
              "      <td>87.9</td>\n",
              "    </tr>\n",
              "    <tr>\n",
              "      <th>1982</th>\n",
              "      <td>96.5</td>\n",
              "      <td>94.9</td>\n",
              "      <td>98.1</td>\n",
              "      <td>91.7</td>\n",
              "      <td>97.1</td>\n",
              "      <td>87.7</td>\n",
              "      <td>95.4</td>\n",
              "    </tr>\n",
              "    <tr>\n",
              "      <th>1983</th>\n",
              "      <td>99.6</td>\n",
              "      <td>100.4</td>\n",
              "      <td>99.8</td>\n",
              "      <td>100.4</td>\n",
              "      <td>100.3</td>\n",
              "      <td>100.8</td>\n",
              "      <td>99.8</td>\n",
              "    </tr>\n",
              "    <tr>\n",
              "      <th>1984</th>\n",
              "      <td>103.9</td>\n",
              "      <td>104.7</td>\n",
              "      <td>102.1</td>\n",
              "      <td>108.1</td>\n",
              "      <td>102.7</td>\n",
              "      <td>111.5</td>\n",
              "      <td>104.8</td>\n",
              "    </tr>\n",
              "  </tbody>\n",
              "</table>\n",
              "</div>"
            ],
            "text/plain": [
              "        USA  Canada  Japan  France  Germany  Italy     UK\n",
              "Year                                                     \n",
              "1980   82.4    76.1   90.9    72.3     86.7   63.2   78.5\n",
              "1981   90.9    85.6   95.3    81.9     92.2   75.4   87.9\n",
              "1982   96.5    94.9   98.1    91.7     97.1   87.7   95.4\n",
              "1983   99.6   100.4   99.8   100.4    100.3  100.8   99.8\n",
              "1984  103.9   104.7  102.1   108.1    102.7  111.5  104.8"
            ]
          },
          "metadata": {
            "tags": []
          },
          "execution_count": 3
        }
      ]
    },
    {
      "cell_type": "code",
      "metadata": {
        "id": "AyGMffsCdnFl",
        "colab_type": "code",
        "outputId": "248d1f9e-2eda-43d5-887c-7eaa5f3ee21d",
        "colab": {
          "base_uri": "https://localhost:8080/",
          "height": 762
        }
      },
      "source": [
        "table1_4.index = table1_4['Period']\n",
        "table1_4.drop(columns=['Period'], inplace=True)\n",
        "table1_4"
      ],
      "execution_count": 4,
      "outputs": [
        {
          "output_type": "execute_result",
          "data": {
            "text/html": [
              "<div>\n",
              "<style scoped>\n",
              "    .dataframe tbody tr th:only-of-type {\n",
              "        vertical-align: middle;\n",
              "    }\n",
              "\n",
              "    .dataframe tbody tr th {\n",
              "        vertical-align: top;\n",
              "    }\n",
              "\n",
              "    .dataframe thead th {\n",
              "        text-align: right;\n",
              "    }\n",
              "</style>\n",
              "<table border=\"1\" class=\"dataframe\">\n",
              "  <thead>\n",
              "    <tr style=\"text-align: right;\">\n",
              "      <th></th>\n",
              "      <th>Australia</th>\n",
              "      <th>Canada</th>\n",
              "      <th>China</th>\n",
              "      <th>Japan</th>\n",
              "      <th>Mexico</th>\n",
              "      <th>South Korea</th>\n",
              "      <th>Sweden</th>\n",
              "      <th>Switzerland</th>\n",
              "      <th>United Kingdom</th>\n",
              "    </tr>\n",
              "    <tr>\n",
              "      <th>Period</th>\n",
              "      <th></th>\n",
              "      <th></th>\n",
              "      <th></th>\n",
              "      <th></th>\n",
              "      <th></th>\n",
              "      <th></th>\n",
              "      <th></th>\n",
              "      <th></th>\n",
              "      <th></th>\n",
              "    </tr>\n",
              "  </thead>\n",
              "  <tbody>\n",
              "    <tr>\n",
              "      <th>1985</th>\n",
              "      <td>0.7003</td>\n",
              "      <td>1.3659</td>\n",
              "      <td>2.9434</td>\n",
              "      <td>238.47</td>\n",
              "      <td>0.257</td>\n",
              "      <td>872.45</td>\n",
              "      <td>8.6032</td>\n",
              "      <td>2.4552</td>\n",
              "      <td>1.2974</td>\n",
              "    </tr>\n",
              "    <tr>\n",
              "      <th>1986</th>\n",
              "      <td>0.6709</td>\n",
              "      <td>1.3896</td>\n",
              "      <td>3.4616</td>\n",
              "      <td>168.35</td>\n",
              "      <td>0.612</td>\n",
              "      <td>884.60</td>\n",
              "      <td>7.1273</td>\n",
              "      <td>1.7979</td>\n",
              "      <td>1.4677</td>\n",
              "    </tr>\n",
              "    <tr>\n",
              "      <th>1987</th>\n",
              "      <td>0.7014</td>\n",
              "      <td>1.3259</td>\n",
              "      <td>3.7314</td>\n",
              "      <td>144.60</td>\n",
              "      <td>1.378</td>\n",
              "      <td>826.16</td>\n",
              "      <td>6.3469</td>\n",
              "      <td>1.4918</td>\n",
              "      <td>1.6398</td>\n",
              "    </tr>\n",
              "    <tr>\n",
              "      <th>1988</th>\n",
              "      <td>0.7841</td>\n",
              "      <td>1.2306</td>\n",
              "      <td>3.7314</td>\n",
              "      <td>128.17</td>\n",
              "      <td>2.273</td>\n",
              "      <td>734.52</td>\n",
              "      <td>6.1370</td>\n",
              "      <td>1.4643</td>\n",
              "      <td>1.7813</td>\n",
              "    </tr>\n",
              "    <tr>\n",
              "      <th>1989</th>\n",
              "      <td>0.7919</td>\n",
              "      <td>1.1842</td>\n",
              "      <td>3.7673</td>\n",
              "      <td>138.07</td>\n",
              "      <td>2.461</td>\n",
              "      <td>674.13</td>\n",
              "      <td>6.4559</td>\n",
              "      <td>1.6369</td>\n",
              "      <td>1.6382</td>\n",
              "    </tr>\n",
              "    <tr>\n",
              "      <th>1990</th>\n",
              "      <td>0.7807</td>\n",
              "      <td>1.1668</td>\n",
              "      <td>4.7921</td>\n",
              "      <td>145.00</td>\n",
              "      <td>2.813</td>\n",
              "      <td>710.64</td>\n",
              "      <td>5.9231</td>\n",
              "      <td>1.3901</td>\n",
              "      <td>1.7841</td>\n",
              "    </tr>\n",
              "    <tr>\n",
              "      <th>1991</th>\n",
              "      <td>0.7787</td>\n",
              "      <td>1.1460</td>\n",
              "      <td>5.3337</td>\n",
              "      <td>134.59</td>\n",
              "      <td>3.018</td>\n",
              "      <td>736.73</td>\n",
              "      <td>6.0521</td>\n",
              "      <td>1.4356</td>\n",
              "      <td>1.7674</td>\n",
              "    </tr>\n",
              "    <tr>\n",
              "      <th>1992</th>\n",
              "      <td>0.7352</td>\n",
              "      <td>1.2085</td>\n",
              "      <td>5.5206</td>\n",
              "      <td>126.78</td>\n",
              "      <td>3.095</td>\n",
              "      <td>784.66</td>\n",
              "      <td>5.8258</td>\n",
              "      <td>1.4064</td>\n",
              "      <td>1.7663</td>\n",
              "    </tr>\n",
              "    <tr>\n",
              "      <th>1993</th>\n",
              "      <td>0.6799</td>\n",
              "      <td>1.2902</td>\n",
              "      <td>5.7795</td>\n",
              "      <td>111.08</td>\n",
              "      <td>3.116</td>\n",
              "      <td>805.75</td>\n",
              "      <td>7.7956</td>\n",
              "      <td>1.4781</td>\n",
              "      <td>1.5016</td>\n",
              "    </tr>\n",
              "    <tr>\n",
              "      <th>1994</th>\n",
              "      <td>0.7316</td>\n",
              "      <td>1.3664</td>\n",
              "      <td>8.6397</td>\n",
              "      <td>102.18</td>\n",
              "      <td>3.385</td>\n",
              "      <td>806.93</td>\n",
              "      <td>7.7161</td>\n",
              "      <td>1.3667</td>\n",
              "      <td>1.5319</td>\n",
              "    </tr>\n",
              "    <tr>\n",
              "      <th>1995</th>\n",
              "      <td>0.7407</td>\n",
              "      <td>1.3725</td>\n",
              "      <td>8.3700</td>\n",
              "      <td>93.96</td>\n",
              "      <td>6.447</td>\n",
              "      <td>772.69</td>\n",
              "      <td>7.1406</td>\n",
              "      <td>1.1812</td>\n",
              "      <td>1.5785</td>\n",
              "    </tr>\n",
              "    <tr>\n",
              "      <th>1996</th>\n",
              "      <td>0.7828</td>\n",
              "      <td>1.3638</td>\n",
              "      <td>8.3389</td>\n",
              "      <td>108.78</td>\n",
              "      <td>7.600</td>\n",
              "      <td>805.00</td>\n",
              "      <td>6.7082</td>\n",
              "      <td>1.2361</td>\n",
              "      <td>1.5607</td>\n",
              "    </tr>\n",
              "    <tr>\n",
              "      <th>1997</th>\n",
              "      <td>0.7437</td>\n",
              "      <td>1.3849</td>\n",
              "      <td>8.3193</td>\n",
              "      <td>121.06</td>\n",
              "      <td>7.918</td>\n",
              "      <td>953.19</td>\n",
              "      <td>7.6446</td>\n",
              "      <td>1.4514</td>\n",
              "      <td>1.6376</td>\n",
              "    </tr>\n",
              "    <tr>\n",
              "      <th>1998</th>\n",
              "      <td>0.6291</td>\n",
              "      <td>1.4836</td>\n",
              "      <td>8.3008</td>\n",
              "      <td>130.99</td>\n",
              "      <td>9.152</td>\n",
              "      <td>1400.40</td>\n",
              "      <td>7.9522</td>\n",
              "      <td>1.4506</td>\n",
              "      <td>1.6573</td>\n",
              "    </tr>\n",
              "    <tr>\n",
              "      <th>1999</th>\n",
              "      <td>0.6454</td>\n",
              "      <td>1.4858</td>\n",
              "      <td>8.2783</td>\n",
              "      <td>113.73</td>\n",
              "      <td>9.553</td>\n",
              "      <td>1189.84</td>\n",
              "      <td>8.2740</td>\n",
              "      <td>1.5045</td>\n",
              "      <td>1.6172</td>\n",
              "    </tr>\n",
              "    <tr>\n",
              "      <th>2000</th>\n",
              "      <td>0.5815</td>\n",
              "      <td>1.4855</td>\n",
              "      <td>8.2784</td>\n",
              "      <td>107.80</td>\n",
              "      <td>9.459</td>\n",
              "      <td>1130.90</td>\n",
              "      <td>9.1735</td>\n",
              "      <td>1.6904</td>\n",
              "      <td>1.5156</td>\n",
              "    </tr>\n",
              "    <tr>\n",
              "      <th>2001</th>\n",
              "      <td>0.5169</td>\n",
              "      <td>1.5487</td>\n",
              "      <td>8.2770</td>\n",
              "      <td>121.57</td>\n",
              "      <td>9.337</td>\n",
              "      <td>1292.02</td>\n",
              "      <td>10.3425</td>\n",
              "      <td>1.6891</td>\n",
              "      <td>1.4396</td>\n",
              "    </tr>\n",
              "    <tr>\n",
              "      <th>2002</th>\n",
              "      <td>0.5437</td>\n",
              "      <td>1.5704</td>\n",
              "      <td>8.2771</td>\n",
              "      <td>125.22</td>\n",
              "      <td>9.663</td>\n",
              "      <td>1250.31</td>\n",
              "      <td>9.7233</td>\n",
              "      <td>1.5567</td>\n",
              "      <td>1.5025</td>\n",
              "    </tr>\n",
              "    <tr>\n",
              "      <th>2003</th>\n",
              "      <td>0.6524</td>\n",
              "      <td>1.4008</td>\n",
              "      <td>8.2772</td>\n",
              "      <td>115.94</td>\n",
              "      <td>10.793</td>\n",
              "      <td>1192.08</td>\n",
              "      <td>8.0787</td>\n",
              "      <td>1.3450</td>\n",
              "      <td>1.6347</td>\n",
              "    </tr>\n",
              "    <tr>\n",
              "      <th>2004</th>\n",
              "      <td>0.7365</td>\n",
              "      <td>1.3017</td>\n",
              "      <td>8.2768</td>\n",
              "      <td>108.15</td>\n",
              "      <td>11.290</td>\n",
              "      <td>1145.24</td>\n",
              "      <td>7.3480</td>\n",
              "      <td>1.2428</td>\n",
              "      <td>1.8330</td>\n",
              "    </tr>\n",
              "    <tr>\n",
              "      <th>2005</th>\n",
              "      <td>0.7627</td>\n",
              "      <td>1.2115</td>\n",
              "      <td>8.1936</td>\n",
              "      <td>110.11</td>\n",
              "      <td>10.894</td>\n",
              "      <td>1023.75</td>\n",
              "      <td>7.4710</td>\n",
              "      <td>1.2459</td>\n",
              "      <td>1.8204</td>\n",
              "    </tr>\n",
              "    <tr>\n",
              "      <th>2006</th>\n",
              "      <td>0.7535</td>\n",
              "      <td>1.1340</td>\n",
              "      <td>7.9723</td>\n",
              "      <td>116.31</td>\n",
              "      <td>10.906</td>\n",
              "      <td>954.32</td>\n",
              "      <td>7.3718</td>\n",
              "      <td>1.2532</td>\n",
              "      <td>1.8434</td>\n",
              "    </tr>\n",
              "  </tbody>\n",
              "</table>\n",
              "</div>"
            ],
            "text/plain": [
              "        Australia  Canada   China  ...   Sweden  Switzerland  United Kingdom\n",
              "Period                             ...                                      \n",
              "1985       0.7003  1.3659  2.9434  ...   8.6032       2.4552          1.2974\n",
              "1986       0.6709  1.3896  3.4616  ...   7.1273       1.7979          1.4677\n",
              "1987       0.7014  1.3259  3.7314  ...   6.3469       1.4918          1.6398\n",
              "1988       0.7841  1.2306  3.7314  ...   6.1370       1.4643          1.7813\n",
              "1989       0.7919  1.1842  3.7673  ...   6.4559       1.6369          1.6382\n",
              "1990       0.7807  1.1668  4.7921  ...   5.9231       1.3901          1.7841\n",
              "1991       0.7787  1.1460  5.3337  ...   6.0521       1.4356          1.7674\n",
              "1992       0.7352  1.2085  5.5206  ...   5.8258       1.4064          1.7663\n",
              "1993       0.6799  1.2902  5.7795  ...   7.7956       1.4781          1.5016\n",
              "1994       0.7316  1.3664  8.6397  ...   7.7161       1.3667          1.5319\n",
              "1995       0.7407  1.3725  8.3700  ...   7.1406       1.1812          1.5785\n",
              "1996       0.7828  1.3638  8.3389  ...   6.7082       1.2361          1.5607\n",
              "1997       0.7437  1.3849  8.3193  ...   7.6446       1.4514          1.6376\n",
              "1998       0.6291  1.4836  8.3008  ...   7.9522       1.4506          1.6573\n",
              "1999       0.6454  1.4858  8.2783  ...   8.2740       1.5045          1.6172\n",
              "2000       0.5815  1.4855  8.2784  ...   9.1735       1.6904          1.5156\n",
              "2001       0.5169  1.5487  8.2770  ...  10.3425       1.6891          1.4396\n",
              "2002       0.5437  1.5704  8.2771  ...   9.7233       1.5567          1.5025\n",
              "2003       0.6524  1.4008  8.2772  ...   8.0787       1.3450          1.6347\n",
              "2004       0.7365  1.3017  8.2768  ...   7.3480       1.2428          1.8330\n",
              "2005       0.7627  1.2115  8.1936  ...   7.4710       1.2459          1.8204\n",
              "2006       0.7535  1.1340  7.9723  ...   7.3718       1.2532          1.8434\n",
              "\n",
              "[22 rows x 9 columns]"
            ]
          },
          "metadata": {
            "tags": []
          },
          "execution_count": 4
        }
      ]
    },
    {
      "cell_type": "markdown",
      "metadata": {
        "id": "BiTa7J-kP6e0",
        "colab_type": "text"
      },
      "source": [
        "## **Question 1**"
      ]
    },
    {
      "cell_type": "markdown",
      "metadata": {
        "id": "7V9aveDeQFIX",
        "colab_type": "text"
      },
      "source": [
        "**Table 1.3 gives data on the Consumer Price Index (CPI) for seven industrialised countries with 1982 - 1984 = 1000 as the base of the index**"
      ]
    },
    {
      "cell_type": "markdown",
      "metadata": {
        "id": "DHxy7gtgQTzj",
        "colab_type": "text"
      },
      "source": [
        "##### **a. From the given data, compute the inflation rate for each country *(subtract the CPI of the previous year from the current year, and multiply by 100. Inflation rate of Canada for 1981 is [(85.6-76.1)/76.1] X 100 = 12.45% (approx)*).**"
      ]
    },
    {
      "cell_type": "code",
      "metadata": {
        "id": "uDJVhyLBPKwi",
        "colab_type": "code",
        "colab": {}
      },
      "source": [
        "def calc_inflation_rate(input_df):\n",
        "    countries = input_df.columns\n",
        "    output_df = pd.DataFrame(columns=countries, index = input_df.index)\n",
        "    for country in countries:\n",
        "        output_df[country] = (input_df[country] - input_df[country].shift(1))/input_df[country].shift(1)*100\n",
        "    return output_df \n",
        "\n",
        "table1_3a = calc_inflation_rate(table1_3)\n",
        "assert np.round(table1_3a.loc[1981, 'Canada'],2) == 12.48"
      ],
      "execution_count": 0,
      "outputs": []
    },
    {
      "cell_type": "markdown",
      "metadata": {
        "id": "uoetS7EdSVeR",
        "colab_type": "text"
      },
      "source": [
        "##### **b. Plot the inflation rate for each country against time (i.e. use the horizontal axis for time and vertical axis for the inflation rate).**"
      ]
    },
    {
      "cell_type": "code",
      "metadata": {
        "id": "-uf886JAUkDs",
        "colab_type": "code",
        "outputId": "d65bc603-9594-4cd3-8866-53fa1684244d",
        "colab": {
          "base_uri": "https://localhost:8080/",
          "height": 303
        }
      },
      "source": [
        "countries = table1_3a.columns\n",
        "table1_3a.reset_index(inplace=True)\n",
        "table1_3b = pd.melt(table1_3a, id_vars=['Year'], value_vars=countries, var_name='country', value_name='inflation_rate')\n",
        "sns.lineplot(x='Year', y='inflation_rate', hue='country', data=table1_3b)"
      ],
      "execution_count": 15,
      "outputs": [
        {
          "output_type": "execute_result",
          "data": {
            "text/plain": [
              "<matplotlib.axes._subplots.AxesSubplot at 0x7f4a46e32080>"
            ]
          },
          "metadata": {
            "tags": []
          },
          "execution_count": 15
        },
        {
          "output_type": "display_data",
          "data": {
            "image/png": "[encoded data removed]",
            "text/plain": [
              "<Figure size 432x288 with 1 Axes>"
            ]
          },
          "metadata": {
            "tags": [],
            "needs_background": "light"
          }
        }
      ]
    },
    {
      "cell_type": "markdown",
      "metadata": {
        "id": "5FnD424EW2on",
        "colab_type": "text"
      },
      "source": [
        "##### **c. What broad conclusions can you draw about the inflation experience in the seven countries?**"
      ]
    },
    {
      "cell_type": "markdown",
      "metadata": {
        "id": "QWkUwTJ2W9du",
        "colab_type": "text"
      },
      "source": [
        "Ans: Inflation rate was very between in 1981 and slowly stabilised towards 1985, before creeping up again in 1990 and slowly stabilised towards the 2000s."
      ]
    },
    {
      "cell_type": "markdown",
      "metadata": {
        "id": "ZIax8wXiXYun",
        "colab_type": "text"
      },
      "source": [
        "##### **d. Which country's inflation rate seems to be the most variable. Can you offer any explanation?**"
      ]
    },
    {
      "cell_type": "markdown",
      "metadata": {
        "id": "v3eus2_aXfM-",
        "colab_type": "text"
      },
      "source": [
        "UK's inflation rate looks to be the most volatile amongst the 7 countries. This could be due to the rocky economic climate in the UK in the 1980s - 1990s e.g. events such as:\n",
        "\n",
        "*   Recession of 1981 which affected most OECD countries (as seen from the chart above)\n",
        "*   Recession of 1991/ Lawson Boom of the late 80s. \n",
        "\n"
      ]
    },
    {
      "cell_type": "markdown",
      "metadata": {
        "id": "g9P5gHSncxUU",
        "colab_type": "text"
      },
      "source": [
        "## **Question 2**"
      ]
    },
    {
      "cell_type": "markdown",
      "metadata": {
        "id": "y9f-6FkVY5pO",
        "colab_type": "text"
      },
      "source": [
        "##### **a. Using `table1_3` plot the inflation rate of Canada, France, Germany, Italy, Japan and the UK against the US inflation rate.**"
      ]
    },
    {
      "cell_type": "code",
      "metadata": {
        "id": "u669RXVhVrTp",
        "colab_type": "code",
        "colab": {}
      },
      "source": [
        "table1_3_12a = calc_inflation_rate(table1_3)\n",
        "countries = ['Canada', 'Japan', 'France', 'Germany', 'Italy', 'UK']\n",
        "table1_3_12a.reset_index(inplace=True)\n",
        "table1_3_12a = pd.melt(table1_3_12a, id_vars=['USA'], value_vars=countries, var_name='country', value_name='inflation_rate')\n",
        "table1_3_12a.dropna(inplace=True)"
      ],
      "execution_count": 0,
      "outputs": []
    },
    {
      "cell_type": "code",
      "metadata": {
        "id": "tpFiE_P7apOX",
        "colab_type": "code",
        "outputId": "974f2935-7b24-46d7-8ab7-402678e0a574",
        "colab": {
          "base_uri": "https://localhost:8080/",
          "height": 303
        }
      },
      "source": [
        "sns.scatterplot(x='USA', y='inflation_rate', hue='country', data=table1_3_12a)"
      ],
      "execution_count": 26,
      "outputs": [
        {
          "output_type": "execute_result",
          "data": {
            "text/plain": [
              "<matplotlib.axes._subplots.AxesSubplot at 0x7f4a4676e6a0>"
            ]
          },
          "metadata": {
            "tags": []
          },
          "execution_count": 26
        },
        {
          "output_type": "display_data",
          "data": {
            "image/png": "[encoded data removed]",
            "text/plain": [
              "<Figure size 432x288 with 1 Axes>"
            ]
          },
          "metadata": {
            "tags": [],
            "needs_background": "light"
          }
        }
      ]
    },
    {
      "cell_type": "markdown",
      "metadata": {
        "id": "tpN-Yvtwb30j",
        "colab_type": "text"
      },
      "source": [
        "##### **b. Comment generally about the behaviour of the inflation rate in the six countries vis-à-vis the U.S. inflation rate.**"
      ]
    },
    {
      "cell_type": "markdown",
      "metadata": {
        "id": "K_QXgYZKb-6J",
        "colab_type": "text"
      },
      "source": [
        "Ans: The inflation rates of the 6 countries are generally positively correlated with US's inflation rate. "
      ]
    },
    {
      "cell_type": "markdown",
      "metadata": {
        "id": "xJbqoE56cF9p",
        "colab_type": "text"
      },
      "source": [
        "##### **c. If you find that the six countries' inflation rates move in the same direction as the U.S. infaltion rate, would you suggest that U.S. inflation \"causes\" inflation in the other countries? Why or why not?**"
      ]
    },
    {
      "cell_type": "markdown",
      "metadata": {
        "id": "H6t2hH6RcOzw",
        "colab_type": "text"
      },
      "source": [
        "Ans: Not necessarily. Correlation does not imply causation. There could be a confounder causing all inflation rates to behave the same way, e.g. oil prices causing supply-side inflation etc."
      ]
    },
    {
      "cell_type": "markdown",
      "metadata": {
        "id": "kMsBZRWjcySY",
        "colab_type": "text"
      },
      "source": [
        "## **Question 3**"
      ]
    },
    {
      "cell_type": "markdown",
      "metadata": {
        "id": "UHnfe5xfdPDV",
        "colab_type": "text"
      },
      "source": [
        "**Table 1.4 gives the foreign exchange rates for 9 industrialised countries for the years 1985-2006. Except for the UK, the exchange rate is defined as the units of foreign currency for 1 U.S. dollar; for the UK, it is defined as the number of U.S. dollar for 1 UK pound.**"
      ]
    },
    {
      "cell_type": "markdown",
      "metadata": {
        "id": "qa0nQn-Add6q",
        "colab_type": "text"
      },
      "source": [
        "##### **a. Plot these exchange rates against time and comment on the general behaviour of the exchange rates over the given time period.**"
      ]
    },
    {
      "cell_type": "code",
      "metadata": {
        "id": "BlqgrAq2dllO",
        "colab_type": "code",
        "colab": {}
      },
      "source": [
        "q3a = table1_4.copy()\n",
        "q3a['United Kingdom'] = 1/q3a['United Kingdom']\n",
        "q3a['South Korea'] = q3a['South Korea']/1000 # scale south korea exchange rate so that it's comparable against other currencies\n",
        "q3a['Japan'] = q3a['Japan']/100 # scale Japan exchange rate so that it's comparable against other currencies\n",
        "q3a['Sweden'] = q3a['Sweden']/10\n",
        "q3a['Mexico'] = q3a['Mexico']/10\n",
        "q3a['China'] = q3a['China']/10\n",
        "\n",
        "\n",
        "\n",
        "countries = q3a.columns\n",
        "q3a.reset_index(inplace=True)\n",
        "q3a = pd.melt(q3a, id_vars=['Period'], value_vars=countries, var_name='country', value_name='exchange_rate')"
      ],
      "execution_count": 0,
      "outputs": []
    },
    {
      "cell_type": "code",
      "metadata": {
        "id": "NuEYKl39e-6j",
        "colab_type": "code",
        "outputId": "f8146417-59af-4cf7-87d0-6c21164f53c6",
        "colab": {
          "base_uri": "https://localhost:8080/",
          "height": 302
        }
      },
      "source": [
        "sns.lineplot(x='Period', y='exchange_rate', hue='country', data=q3a)"
      ],
      "execution_count": 35,
      "outputs": [
        {
          "output_type": "execute_result",
          "data": {
            "text/plain": [
              "<matplotlib.axes._subplots.AxesSubplot at 0x7f4a43e88748>"
            ]
          },
          "metadata": {
            "tags": []
          },
          "execution_count": 35
        },
        {
          "output_type": "display_data",
          "data": {
            "image/png": "[encoded data removed]",
            "text/plain": [
              "<Figure size 432x288 with 1 Axes>"
            ]
          },
          "metadata": {
            "tags": [],
            "needs_background": "light"
          }
        }
      ]
    },
    {
      "cell_type": "markdown",
      "metadata": {
        "id": "5FPg6fOxkeJ7",
        "colab_type": "text"
      },
      "source": [
        "##### **b. The dollar is said to appreciate if it can buy more units of a foreign currency. Contrarily, it is said to depreciate if it buys fewer units of a foreign currency. Over the time period 1985-2006, what has been the general behaviour of the U.S.dollar? Incidentally, look up any textbook on macroeconomics or international economics to find out what factors determine the appreciation or depreciation of a currency**."
      ]
    },
    {
      "cell_type": "markdown",
      "metadata": {
        "id": "AaoLsQXAlW16",
        "colab_type": "text"
      },
      "source": [
        "Over this time period, USD has appreciated against currencies of the developing world (China, Mexico). It's stayed largely the same agaisnt other currencies of the developed world except Australia and Canada which it's depreciated against in the late 80s. \n",
        "\n",
        "Factors that affect appreciation/ depreciation of a currency includes:\n",
        "- central bank's interest rate \n",
        "- inflation rate of a country\n",
        "- political/ economic stability\n",
        "- balance of trade "
      ]
    },
    {
      "cell_type": "markdown",
      "metadata": {
        "id": "uQ3wdaU7czdS",
        "colab_type": "text"
      },
      "source": [
        "## **Question 4**"
      ]
    },
    {
      "cell_type": "markdown",
      "metadata": {
        "id": "gh_VQkSCmq02",
        "colab_type": "text"
      },
      "source": [
        "**The data behind the M1 money suply in Figure 1.5 are given in Table 1.5. Can you give reasons why the money supply has been increasing over the timeperiod shown in the table?**"
      ]
    },
    {
      "cell_type": "code",
      "metadata": {
        "id": "NPtLQQ9umzmL",
        "colab_type": "code",
        "colab": {
          "base_uri": "https://localhost:8080/",
          "height": 302
        },
        "outputId": "7dcaa35a-64af-4942-f17d-11708411cf09"
      },
      "source": [
        "q5 = table1_5.copy()\n",
        "q5['Day'] = 1 \n",
        "q5['date'] = pd.to_datetime(q5[['Year','Month','Day']])\n",
        "sns.lineplot(x='date',y='USD',data=q5)"
      ],
      "execution_count": 44,
      "outputs": [
        {
          "output_type": "execute_result",
          "data": {
            "text/plain": [
              "<matplotlib.axes._subplots.AxesSubplot at 0x7f4a41d43048>"
            ]
          },
          "metadata": {
            "tags": []
          },
          "execution_count": 44
        },
        {
          "output_type": "display_data",
          "data": {
            "image/png": "[encoded data removed]",
            "text/plain": [
              "<Figure size 432x288 with 1 Axes>"
            ]
          },
          "metadata": {
            "tags": [],
            "needs_background": "light"
          }
        }
      ]
    },
    {
      "cell_type": "markdown",
      "metadata": {
        "id": "oGKRJaP_oa3z",
        "colab_type": "text"
      },
      "source": [
        "Ans: https://libertystreeteconomics.newyorkfed.org/2012/05/whats-driving-up-money-growth.html"
      ]
    },
    {
      "cell_type": "markdown",
      "metadata": {
        "id": "zzAWDMNwokIL",
        "colab_type": "text"
      },
      "source": [
        "## **Question 7**"
      ]
    },
    {
      "cell_type": "markdown",
      "metadata": {
        "id": "YeS9Xhmeo_zV",
        "colab_type": "text"
      },
      "source": [
        "**The data presented in `table1_6` were published in the March 1, 1984, issue of The Wall Street Journal. They relate tot he advertising budget (in million of dollars) of 21 firms for 1983 and millions of impressions retained per week by the viewers of the products of these firms. The data are based on a survey of 4000 adults in which users of the products were asked to cite a commercial they had seen for the product category in the past week.**"
      ]
    },
    {
      "cell_type": "markdown",
      "metadata": {
        "id": "6vC-eyhPpVYK",
        "colab_type": "text"
      },
      "source": [
        "##### **a. Plot impressions on the vertical axis and advertising expenditure on the horizontal axis.**"
      ]
    },
    {
      "cell_type": "code",
      "metadata": {
        "id": "KkQvj0e9ok75",
        "colab_type": "code",
        "colab": {
          "base_uri": "https://localhost:8080/",
          "height": 302
        },
        "outputId": "a96cf825-4510-4905-afc1-86703456fbc8"
      },
      "source": [
        "sns.scatterplot(x='Expenditure (Millions)', y='Impressions (Millions)', data=table1_6)"
      ],
      "execution_count": 47,
      "outputs": [
        {
          "output_type": "execute_result",
          "data": {
            "text/plain": [
              "<matplotlib.axes._subplots.AxesSubplot at 0x7f4a41eaf6a0>"
            ]
          },
          "metadata": {
            "tags": []
          },
          "execution_count": 47
        },
        {
          "output_type": "display_data",
          "data": {
            "image/png": "[encoded data removed]",
            "text/plain": [
              "<Figure size 432x288 with 1 Axes>"
            ]
          },
          "metadata": {
            "tags": [],
            "needs_background": "light"
          }
        }
      ]
    },
    {
      "cell_type": "markdown",
      "metadata": {
        "id": "8Y5Wk08jpton",
        "colab_type": "text"
      },
      "source": [
        "##### **b. What can you say about the nature of the relationship between the two variables?**"
      ]
    },
    {
      "cell_type": "markdown",
      "metadata": {
        "id": "mRfJLyyjp0cA",
        "colab_type": "text"
      },
      "source": [
        "They follow a log-linear relationship i.e. there's a diminishing return curve to the impressions delivered as expenditure increases."
      ]
    },
    {
      "cell_type": "markdown",
      "metadata": {
        "id": "G9-Dq-SnqDDc",
        "colab_type": "text"
      },
      "source": [
        "##### **c. Looking at your graph, do you think it pays to advertise? Think about all those commercials shown on Super Bowl Sunday or during the World Series.**"
      ]
    },
    {
      "cell_type": "markdown",
      "metadata": {
        "id": "R7LdsXiuqL8V",
        "colab_type": "text"
      },
      "source": [
        "As long as the incremental revenue brought in via advertising is higher than the advertising cost + cost associated to generate these revenue, it'll be worth it to pay for advertising. \n",
        "\n",
        "For instance if spending £500K on advertising generates £1M extra revenue, of which costed £400K to generate (through operation cost, cost of goods sold etc), the firm would make a net profit of £100K through advertising spend, which is a return of investment of 20% (£100K net profit divided by £500K advertising spend)."
      ]
    }
  ]
}