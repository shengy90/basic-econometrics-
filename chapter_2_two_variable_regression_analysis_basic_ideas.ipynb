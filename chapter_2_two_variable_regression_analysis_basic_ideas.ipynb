{
  "nbformat": 4,
  "nbformat_minor": 0,
  "metadata": {
    "colab": {
      "name": "chapter 2 - two-variable regression analysis - basic ideas.ipynb",
      "provenance": [],
      "collapsed_sections": [
        "BiTa7J-kP6e0",
        "kMsBZRWjcySY",
        "5FPg6fOxkeJ7"
      ],
      "authorship_tag": "ABX9TyOHZXzgpeoU+FhxC4Adrm0l",
      "include_colab_link": true
    },
    "kernelspec": {
      "name": "python3",
      "display_name": "Python 3"
    }
  },
  "cells": [
    {
      "cell_type": "markdown",
      "metadata": {
        "id": "view-in-github",
        "colab_type": "text"
      },
      "source": [
        "<a href=\"https://colab.research.google.com/github/shengy90/basic-econometrics-/blob/master/chapter_2_two_variable_regression_analysis_basic_ideas.ipynb\" target=\"_parent\"><img src=\"https://colab.research.google.com/assets/colab-badge.svg\" alt=\"Open In Colab\"/></a>"
      ]
    },
    {
      "cell_type": "code",
      "metadata": {
        "id": "opuxrvnfP-Q0",
        "colab_type": "code",
        "colab": {}
      },
      "source": [
        "import pandas as pd\n",
        "import numpy as np\n",
        "import seaborn as sns; sns.set()\n",
        "import matplotlib.pyplot as plt \n",
        "\n",
        "% matplotlib inline"
      ],
      "execution_count": 0,
      "outputs": []
    },
    {
      "cell_type": "markdown",
      "metadata": {
        "id": "Wcoy9M6SNngU",
        "colab_type": "text"
      },
      "source": [
        "#### **Load data from github**\n"
      ]
    },
    {
      "cell_type": "code",
      "metadata": {
        "id": "OQluhvMYN__e",
        "colab_type": "code",
        "colab": {}
      },
      "source": [
        "import pandas as pd \n",
        "url10 = \"https://raw.githubusercontent.com/shengy90/basic-econometrics-/master/datasets/table2_10.csv\"\n",
        "url9 = \"https://raw.githubusercontent.com/shengy90/basic-econometrics-/master/datasets/table2_9.csv\"\n",
        "url8 = \"https://raw.githubusercontent.com/shengy90/basic-econometrics-/master/datasets/table2_8.csv\"\n",
        "url7 = \"https://raw.githubusercontent.com/shengy90/basic-econometrics-/master/datasets/table2_7.csv\"\n",
        "table_10 = pd.read_csv(url10, thousands=r',')\n",
        "table_9 = pd.read_csv(url9, thousands=r',')\n",
        "table_8 = pd.read_csv(url8, thousands=r',')\n",
        "table_7 = pd.read_csv(url7, thousands=r',')"
      ],
      "execution_count": 0,
      "outputs": []
    },
    {
      "cell_type": "code",
      "metadata": {
        "id": "wGb8TrU_LtCK",
        "colab_type": "code",
        "colab": {
          "base_uri": "https://localhost:8080/",
          "height": 204
        },
        "outputId": "fa5b32a4-3ffb-491b-8927-0027409bd213"
      },
      "source": [
        "table_10.head()"
      ],
      "execution_count": 3,
      "outputs": [
        {
          "output_type": "execute_result",
          "data": {
            "text/html": [
              "<div>\n",
              "<style scoped>\n",
              "    .dataframe tbody tr th:only-of-type {\n",
              "        vertical-align: middle;\n",
              "    }\n",
              "\n",
              "    .dataframe tbody tr th {\n",
              "        vertical-align: top;\n",
              "    }\n",
              "\n",
              "    .dataframe thead th {\n",
              "        text-align: right;\n",
              "    }\n",
              "</style>\n",
              "<table border=\"1\" class=\"dataframe\">\n",
              "  <thead>\n",
              "    <tr style=\"text-align: right;\">\n",
              "      <th></th>\n",
              "      <th>Family Income</th>\n",
              "      <th>Number of test takers</th>\n",
              "      <th>Critical Reading (Mean)</th>\n",
              "      <th>Critical Reading (SD)</th>\n",
              "      <th>Mathematics (Mean)</th>\n",
              "      <th>Mathematics (SD)</th>\n",
              "      <th>Writing (Mean)</th>\n",
              "      <th>Writing (SD)</th>\n",
              "    </tr>\n",
              "  </thead>\n",
              "  <tbody>\n",
              "    <tr>\n",
              "      <th>0</th>\n",
              "      <td>&lt; 10,000</td>\n",
              "      <td>40610</td>\n",
              "      <td>427</td>\n",
              "      <td>107</td>\n",
              "      <td>451</td>\n",
              "      <td>122</td>\n",
              "      <td>423</td>\n",
              "      <td>104</td>\n",
              "    </tr>\n",
              "    <tr>\n",
              "      <th>1</th>\n",
              "      <td>10000-20000</td>\n",
              "      <td>72745</td>\n",
              "      <td>453</td>\n",
              "      <td>106</td>\n",
              "      <td>472</td>\n",
              "      <td>113</td>\n",
              "      <td>446</td>\n",
              "      <td>102</td>\n",
              "    </tr>\n",
              "    <tr>\n",
              "      <th>2</th>\n",
              "      <td>20000-30000</td>\n",
              "      <td>61244</td>\n",
              "      <td>454</td>\n",
              "      <td>102</td>\n",
              "      <td>465</td>\n",
              "      <td>107</td>\n",
              "      <td>444</td>\n",
              "      <td>97</td>\n",
              "    </tr>\n",
              "    <tr>\n",
              "      <th>3</th>\n",
              "      <td>30000-40000</td>\n",
              "      <td>83685</td>\n",
              "      <td>476</td>\n",
              "      <td>103</td>\n",
              "      <td>485</td>\n",
              "      <td>106</td>\n",
              "      <td>466</td>\n",
              "      <td>98</td>\n",
              "    </tr>\n",
              "    <tr>\n",
              "      <th>4</th>\n",
              "      <td>40000-50000</td>\n",
              "      <td>75836</td>\n",
              "      <td>489</td>\n",
              "      <td>103</td>\n",
              "      <td>486</td>\n",
              "      <td>105</td>\n",
              "      <td>477</td>\n",
              "      <td>99</td>\n",
              "    </tr>\n",
              "  </tbody>\n",
              "</table>\n",
              "</div>"
            ],
            "text/plain": [
              "  Family Income  Number of test takers  ...  Writing (Mean)  Writing (SD)\n",
              "0      < 10,000                  40610  ...             423           104\n",
              "1   10000-20000                  72745  ...             446           102\n",
              "2   20000-30000                  61244  ...             444            97\n",
              "3   30000-40000                  83685  ...             466            98\n",
              "4   40000-50000                  75836  ...             477            99\n",
              "\n",
              "[5 rows x 8 columns]"
            ]
          },
          "metadata": {
            "tags": []
          },
          "execution_count": 3
        }
      ]
    },
    {
      "cell_type": "markdown",
      "metadata": {
        "id": "8FaLok-nicrN",
        "colab_type": "text"
      },
      "source": [
        "# **Theoretical Questions**"
      ]
    },
    {
      "cell_type": "markdown",
      "metadata": {
        "id": "BiTa7J-kP6e0",
        "colab_type": "text"
      },
      "source": [
        "## **Question 1**\n",
        "\n",
        "**What is the conditional expectation function or the population regression function?**"
      ]
    },
    {
      "cell_type": "markdown",
      "metadata": {
        "id": "opRc4GmoMa4q",
        "colab_type": "text"
      },
      "source": [
        "Ans: The conditional expectation function or population regression function is $\\mathbb{E}(Y|X_{i}) = f(X_{i})$, i.e. the function that describes how the conditional mean of $Y$ given $X_{i}$ varies with $X_{i}$."
      ]
    },
    {
      "cell_type": "markdown",
      "metadata": {
        "id": "g9P5gHSncxUU",
        "colab_type": "text"
      },
      "source": [
        "## **Question 2**\n",
        "**What is the difference between the population and sample regression functions? Is this a distinction without difference?**"
      ]
    },
    {
      "cell_type": "markdown",
      "metadata": {
        "id": "Odq2z2NzNFkO",
        "colab_type": "text"
      },
      "source": [
        "Ans: The sample regression function is given by $\\hat{Y_i} = f(X_i)$ where $\\hat{Y_i}$ is the estimator of $\\mathbb{E}(Y|X_i)$. This distinction is not without difference - in real life, we don't always have the population available for examination - and we only have a sample to work with, where different samples might yield different coefficients for $f(X_i)$. The goal is to find coeffients such that we get $\\hat{Y_i}$ to be as close to the true $Y_i$."
      ]
    },
    {
      "cell_type": "markdown",
      "metadata": {
        "id": "kMsBZRWjcySY",
        "colab_type": "text"
      },
      "source": [
        "## **Question 3**\n",
        "**What is the role of the stochastic error term $u_i$ in regression analysis? What is the diffference between the stochastic error term and the residual $\\hat{u_i}$.**"
      ]
    },
    {
      "cell_type": "markdown",
      "metadata": {
        "id": "43lLxmhiOUx4",
        "colab_type": "text"
      },
      "source": [
        "Ans: The stochastic error term represents the surrage of all other factors that affect $Y$, but aren't included in the model. The difference between $u_i$ and $\\hat{u_i}$, is that the latter represents the stochastic error term *of the sample*, which is an estimation of the former. However, both should satisfy the condition $\\mathbb{E}(u_i) = 0$."
      ]
    },
    {
      "cell_type": "markdown",
      "metadata": {
        "id": "uQ3wdaU7czdS",
        "colab_type": "text"
      },
      "source": [
        "## **Question 4**\n",
        "**Why do we need regression analysis? Why not simply use the mean of the regressand as its best value?**"
      ]
    },
    {
      "cell_type": "markdown",
      "metadata": {
        "id": "LxeUSw-wPZD2",
        "colab_type": "text"
      },
      "source": [
        "Ans: Using the mean of the regressand simply yields $\\mathbb{E}(Y)$, i.e. mean of the dependent variable of the population regardless of what the regressand's value is. However we know that there is a relationship between the regressand and regressor such the mean of the regressor varies with the value of regressand. \n",
        "\n",
        "Regression analysis therefore allows us to predict with much higher accuracy the real value of the regressor $(Y_i)$ given the value of the regressand $(X_i)$, rather than predicting the average regardless of what the value of the regressand is.\n",
        "\n",
        "For example, we know that height varies with age. Regression analysis allows us to predict with much higher accuracy the height given the age of someone, instead of blindly predicting the same height for everyone."
      ]
    },
    {
      "cell_type": "markdown",
      "metadata": {
        "id": "zzAWDMNwokIL",
        "colab_type": "text"
      },
      "source": [
        "## **Question 5**\n",
        "**What do we mean by a *linear* regression model?**"
      ]
    },
    {
      "cell_type": "markdown",
      "metadata": {
        "id": "57B0L4iaQ02G",
        "colab_type": "text"
      },
      "source": [
        "Ans: A linear regression model refers to a model that takes a functional form that is *linear* in parameters. It does not matter if it's linear in variable or not.\n",
        "\n",
        "For example:\n",
        "- $Y = \\beta_1 + \\beta_2 x^2$ is linear in parameter (but not in variable)\n",
        "- $Y = \\beta_1 + \\beta_2^2 x$ is non-linear in parameter (but linear in variable)  \n",
        "- $Y = \\beta_1 + \\beta_2^2 x^2$ is non-linear in both parameter and variable\n",
        "- $Y = \\beta_1 + \\beta_2 x$ is linear in both parameter and variable"
      ]
    },
    {
      "cell_type": "markdown",
      "metadata": {
        "id": "RqZqCT69QstS",
        "colab_type": "text"
      },
      "source": [
        "## **Question 6**\n",
        "**Determine whether the following models are linear in parameters, or the variables, or both. Which of these models are linear regression models?**\n",
        "\n",
        "**a. $Y_i = \\beta_1 + \\beta_2 (\\frac{1}{x_i}) + u_i$**\n",
        "\n",
        "**b. $Y_i = \\beta_1 + \\beta_2 \\ln(x_i) + u_i$**\n",
        "\n",
        "**c. $\\ln(Y_i) = \\beta_1 + \\beta_2 x_i + u_i$**\n",
        "\n",
        "**d. $\\ln(Y_i) = \\ln(\\beta_1) + \\beta_2 \\ln(x_i) + u_i$**\n",
        "\n",
        "**e. $\\ln(Y_i) = \\beta_1 - \\beta_2 (\\frac{1}{x_i}) + u_i$**"
      ]
    },
    {
      "cell_type": "markdown",
      "metadata": {
        "id": "Mad6PxMVSY-o",
        "colab_type": "text"
      },
      "source": [
        "Ans:\n",
        "\n",
        "a. Linear in parameters but not variables.\n",
        "\n",
        "b. Linear in both parameters and variables.\n",
        "\n",
        "c. Linear in both parameters and variables.\n",
        "\n",
        "d. Linear in both parameters and variables.\n",
        "\n",
        "e. Linear in parameters but not variables.\n"
      ]
    },
    {
      "cell_type": "markdown",
      "metadata": {
        "id": "6mVEF-P-QtUE",
        "colab_type": "text"
      },
      "source": [
        "## **Question 7**\n",
        "**Are the following models linear regression models? Why or why not?**\n",
        "\n",
        "**a. $Y_i = e^{\\beta_1 + \\beta_2X_i + u_i}$**\n",
        "\n",
        "**b. $Y_i = \\frac{1}{1 + e^{\\beta_1 + \\beta_2X_i + u_i}}$**\n",
        "\n",
        "**c. $\\ln(Y_i) = \\beta_1 + \\beta_2(\\frac{1}{x_i}) + u_i$**\n",
        "\n",
        "**d. $Y_i = \\beta_1 + (0.75-\\beta_1)e^{-\\beta_2(X_i - 2)} + u_i$**\n",
        "\n",
        "**e. $Y_i = \\beta_1 + \\beta_2^3 X_i + u_i$**"
      ]
    },
    {
      "cell_type": "markdown",
      "metadata": {
        "id": "YCVrsuaOTjBd",
        "colab_type": "text"
      },
      "source": [
        "Ans:\n",
        "\n",
        "a. This in its current form is not a linear regression model, although it could be transformed into a linear form: $\\ln(Y_i) = \\beta_1 + \\beta_2X_i + u_i$ which is linear in both parameters (though not variables). \n",
        "\n",
        "b. This in its current form is not a linear regression model, although it could be transformed into a linear form: $\\ln(Z_i) = \\beta_1 + \\beta_2X_i + u_i$ where $Z_i = \\frac{1}{Y_i}-1$ which is linear in paramters (though not variables)\n",
        "\n",
        "c. This is a linear regression model - it is linear in paramters (though not in variables)\n",
        "\n",
        "d. This is not a linear regression model, and it can't be transformed into a linear form.\n",
        "\n",
        "e. This is not a linear regression model - although it's linear in variables, it's not linear in paramter."
      ]
    },
    {
      "cell_type": "markdown",
      "metadata": {
        "id": "nIv-qyZxQtvG",
        "colab_type": "text"
      },
      "source": [
        "## **Question 8**\n",
        "**What is meant by an intrinsically linear regression model? If $\\beta_2$ in Exercise 2.7d were 0.8, would it be a linear or nonlinear regression model?**"
      ]
    },
    {
      "cell_type": "markdown",
      "metadata": {
        "id": "uKXDh3ikVNSf",
        "colab_type": "text"
      },
      "source": [
        "A linear regression model is linear in parameter - it does not matter if it's linear in variable or not. Even if $\\beta_2$ takes the value of 0.8, it would still be a nonlinear regression model because $\\beta_1$ is multiplied by a term that contains $\\beta_2$. \n",
        "\n"
      ]
    },
    {
      "cell_type": "markdown",
      "metadata": {
        "id": "5siDr7B1QuEW",
        "colab_type": "text"
      },
      "source": [
        "## **Question 9**\n",
        "**Consider the following nonstochastic models (i.e. models without the stochastic error term). Are they linear regression models? If not, is it possible, by suitable algebraic manipulations, to convert them into linear models?**\n",
        "\n",
        "**a. $Y_i = \\frac{1}{\\beta_1 + \\beta_2 X_i}$**\n",
        "\n",
        "**b. $Y_i = \\frac{X_i}{\\beta_1 + \\beta_2 X_i}$**\n",
        "\n",
        "**c. $Y_i = \\frac{1}{1 + \\exp{(-\\beta_1 - \\beta_2 X_i)}}$**"
      ]
    },
    {
      "cell_type": "markdown",
      "metadata": {
        "id": "dXnnulX6Wqxw",
        "colab_type": "text"
      },
      "source": [
        "Ans:\n",
        "\n",
        "---\n",
        "\n",
        "a. This in its current form is not a linear regression model, although it could be transformed into a linear form: $Z_i = \\beta_1 + \\beta_2 X_i$ where $Z_i = \\frac{1}{Y_i}$, which is linear in paramter (though not in variables).\n",
        "\n",
        "---\n",
        "\n",
        "b. This in its current form is not a linear regression model, although it could be transformed into a linear form:\n",
        "\n",
        "$$\\beta_1 + \\beta_2 X_i = \\frac{X_i}{Y_i}$$\n",
        "$$\\frac{1}{X_i} \\beta_1 + \\beta_2 = \\frac{1}{Y_i}$$\n",
        "$$A \\beta_1 + \\beta_2 = B$$\n",
        "\n",
        "Where $A = \\frac{1}{X_i}$ and $B = \\frac{1}{Y_i}$. This is linear in parameter (although not in variable).\n",
        "\n",
        "--- \n",
        "\n",
        "c. This in its current form is not a linear regression model, although it could be transformed into a linear form:\n",
        "\n",
        "$$\\exp{(-\\beta_1 - \\beta_2 X_i)} = \\frac{1}{Y_i} - 1$$\n",
        "$$-\\beta_1 - \\beta_2 X_i = ln(\\frac{1}{Y_i} - 1)$$\n",
        "\n",
        "Which is linear in paramters, though not in variables.\n",
        "\n",
        "---"
      ]
    },
    {
      "cell_type": "markdown",
      "metadata": {
        "id": "8io4a-JHQuYd",
        "colab_type": "text"
      },
      "source": [
        "## **Question 10**\n",
        "**You are given a scattergram in Figure 2.8 along with the regression line. What general conclusion do you draw from this diagram? Is the regression lin sketched in the diagram a population regression line or the sample regression line?**"
      ]
    },
    {
      "cell_type": "markdown",
      "metadata": {
        "id": "8YrVYXZDeqEE",
        "colab_type": "text"
      },
      "source": [
        "There is a positive correlation between the average annual change in export-GNP ratio and the average growth in real manufacturing wages. The data is a sample regression line because it consists of data for only 50 developing countries, not all developing countries."
      ]
    },
    {
      "cell_type": "markdown",
      "metadata": {
        "id": "1QI6ESyyZmWM",
        "colab_type": "text"
      },
      "source": [
        "## **Question 11**\n",
        "**From the scattergram in Figure 2.9, what general conclusions do you draw? What is the economic theory that underlies this scattergram? (Hint: look up any intenational economics textbook and read up on the Heckscher-Ohlin model of trade)**."
      ]
    },
    {
      "cell_type": "markdown",
      "metadata": {
        "id": "MlLEacwhfSnm",
        "colab_type": "text"
      },
      "source": [
        "There is a positive correlation between the skillness of an economy vs the 'sophisitication' of its export:\n",
        "- the less skilled an economy, the less exports consist of manufactured goods and more off raw materials\n",
        "- the more skilled an economy, the less exports consist of raw material and more of manufactured goods\n",
        "\n",
        "According to Heckschner-Ohlin model of trade, countries exploits their comparative advantage when it comes to exporting goods. A highly skilled economy has much better comparative advantage when it comes to manufacturing goods rather than processing raw materials due to the abundance of skilled workers, hence they specialise in manufactured goods (and thus export more). And because manufactured goods require raw materials, quite naturally they'll export less of raw materials as they'd be used for manufacturing.\n",
        "\n",
        "On the other hand, a lowly-skilled economy do not have enough skilled workers to specialise in manufacturing industry, and thus surplus of raw materials which they can then export, i.e. compared to highly-skilled economy, lowly-skilled economy has comparative advantage when it comes to producing raw materials for export. "
      ]
    },
    {
      "cell_type": "markdown",
      "metadata": {
        "id": "eR9thQigZpVk",
        "colab_type": "text"
      },
      "source": [
        "## **Question 12**\n",
        "**What does the scattergram in Figure 2.10 regeal? On the basis of this diagram, would you argue that minimum wage laws are good for economic well-being?**"
      ]
    },
    {
      "cell_type": "markdown",
      "metadata": {
        "id": "xy3mX2TOg8ud",
        "colab_type": "text"
      },
      "source": [
        "There seems to be a negative correlation between the ratio of one year's salary at minimum wage to GNP per capita, and the GNP per capita, i.e. the higher the ratio, the lower the GNP per capita.\n",
        "\n",
        "Correlation does does not imply causation. This negative correlation does not mean that minimum wage is bad for economy! It's quite likely that in developing countries, minimum wage are 'similar' in the sense that it'll be the amount needed for people to 'survive', regardless of how rich a country is. \n",
        "\n",
        "As a result, as GNP per capita increases, the denominator increases despite numerator staying the same, which reduces this ratio.\n",
        "\n",
        "In other words, this negative ratio is a by-product how minimum wage law policy works, rather than the fact that the minimum wage law policy results in GNP per capita decreasing! Simply scrapping minimum wage law doesn't make a 'poor' country rich! "
      ]
    },
    {
      "cell_type": "markdown",
      "metadata": {
        "id": "Wv1Hmbj2Zo7u",
        "colab_type": "text"
      },
      "source": [
        "# **Emperical Questions**"
      ]
    },
    {
      "cell_type": "markdown",
      "metadata": {
        "id": "_vqsZ8PpZoti",
        "colab_type": "text"
      },
      "source": [
        "## **Question 14: You are given the data in `table_7` for the United States for years 1980-2006.** "
      ]
    },
    {
      "cell_type": "markdown",
      "metadata": {
        "id": "k8UbZPiTiw8L",
        "colab_type": "text"
      },
      "source": [
        "#### **a. Plot the male civilian labour force participation rate against male civilian unemployment rate. Eyeball a regression line through the scatter points. A priori, what is the expected relationship between the two and what is the underlying economic theory? Does the scattergram support the theory?**"
      ]
    },
    {
      "cell_type": "code",
      "metadata": {
        "id": "Z_jM6f8ai_ho",
        "colab_type": "code",
        "colab": {
          "base_uri": "https://localhost:8080/",
          "height": 302
        },
        "outputId": "ac64fadd-7bdc-46ee-8796-b9f541bccb63"
      },
      "source": [
        "sns.scatterplot(y='UNRM', x='CLFRPM', hue='Year', data=table_7)"
      ],
      "execution_count": 9,
      "outputs": [
        {
          "output_type": "execute_result",
          "data": {
            "text/plain": [
              "<matplotlib.axes._subplots.AxesSubplot at 0x7fa646347898>"
            ]
          },
          "metadata": {
            "tags": []
          },
          "execution_count": 9
        },
        {
          "output_type": "display_data",
          "data": {
            "image/png": "[encoded data removed]",
            "text/plain": [
              "<Figure size 432x288 with 1 Axes>"
            ]
          },
          "metadata": {
            "tags": [],
            "needs_background": "light"
          }
        }
      ]
    },
    {
      "cell_type": "markdown",
      "metadata": {
        "id": "12jQ7MVbjZme",
        "colab_type": "text"
      },
      "source": [
        "`Labour participation rate` refers to the % of the population that are in the labour force (i.e. in employment or actively seeking employment):\n",
        "\n",
        "$$\\frac{\\text{People eligible for work}}{\\text{Total Population}}$$\n",
        "\n",
        "`Unemployment rate` refers to the % of the labour force that is currently out of work:\n",
        "\n",
        "$$\\frac{\\text{Eligible but out of work}}{\\text{Eligible For Work}}$$\n",
        "\n",
        "There are many reasons why the unemployment rate can fall:\n",
        "1. A booming economy where everyone who are eligible for work can find work, i.e. labour force remained the same but people out of work decreased\n",
        "2. A booming economy where people who weren't looking for a job got offered one and entered the job market, i.e. labour force increased, whilst number of people out of work remained the same.\n",
        "3. Structural weakness in an economy where people are dropping out of the labour force, e.g. ageing economy or skill of economy becomes irrelevant\n",
        "\n",
        "How unemployment rate and labour participation rate trends depend on the state of the economy. \n",
        "\n",
        "The data for male labour participation rate vs unemployment rate showed that from 1980 -> 2010, unemployment rate has fallen as labour participation rate falls, which is one of the ways we'd expect unemployment rate could fall according to theory.\n",
        "\n",
        "https://www.investopedia.com/articles/investing/103015/how-labor-force-participation-rate-affects-us-unemployment.asp\n"
      ]
    },
    {
      "cell_type": "markdown",
      "metadata": {
        "id": "k6f9A1PSm_zn",
        "colab_type": "text"
      },
      "source": [
        "#### **b. Repeat (a) for females.**"
      ]
    },
    {
      "cell_type": "code",
      "metadata": {
        "id": "SbCO1I0ep8je",
        "colab_type": "code",
        "colab": {
          "base_uri": "https://localhost:8080/",
          "height": 302
        },
        "outputId": "7cd26546-e97e-45b1-8c72-f307f48be66c"
      },
      "source": [
        "sns.scatterplot(y='UNRF', x='CLFPRF', hue='Year', data=table_7)"
      ],
      "execution_count": 14,
      "outputs": [
        {
          "output_type": "execute_result",
          "data": {
            "text/plain": [
              "<matplotlib.axes._subplots.AxesSubplot at 0x7fa64613a4e0>"
            ]
          },
          "metadata": {
            "tags": []
          },
          "execution_count": 14
        },
        {
          "output_type": "display_data",
          "data": {
            "image/png": "[encoded data removed]",
            "text/plain": [
              "<Figure size 432x288 with 1 Axes>"
            ]
          },
          "metadata": {
            "tags": [],
            "needs_background": "light"
          }
        }
      ]
    },
    {
      "cell_type": "markdown",
      "metadata": {
        "id": "soveOTZvqHeV",
        "colab_type": "text"
      },
      "source": [
        "Data shows the contrary that there's a negative relationship between labour participation rates for females and unemployment rate compared to the male conuterpart. \n",
        "\n",
        "This can also be supported by theory:\n",
        "- From 1980 -> 2000, more and more job opportunities have become available for women\n",
        "- a lot of women who previously weren't considering a job were offered jobs and joined the work force, increasing the size of labour force, whilst the number of unemployed remained the same, resulting in a fall in unemployment rate\n",
        "\n"
      ]
    },
    {
      "cell_type": "markdown",
      "metadata": {
        "id": "VieGtHserEDS",
        "colab_type": "text"
      },
      "source": [
        "#### **c. Now plot both the male and female labour participation rates against average hourly earnings (in 1982 dollars). You may use separate diagrams. Now what do you find and how would you rationalise your findings?**"
      ]
    },
    {
      "cell_type": "code",
      "metadata": {
        "id": "cJzbMuj9rNut",
        "colab_type": "code",
        "colab": {
          "base_uri": "https://localhost:8080/",
          "height": 304
        },
        "outputId": "cfd8a952-42c5-4b57-a7e3-f56aa20064f6"
      },
      "source": [
        "sns.scatterplot(x='CLFRPM', y='AHE82', hue='Year', data=table_7)"
      ],
      "execution_count": 19,
      "outputs": [
        {
          "output_type": "execute_result",
          "data": {
            "text/plain": [
              "<matplotlib.axes._subplots.AxesSubplot at 0x7fa645ebfe10>"
            ]
          },
          "metadata": {
            "tags": []
          },
          "execution_count": 19
        },
        {
          "output_type": "display_data",
          "data": {
            "image/png": "[encoded data removed]",
            "text/plain": [
              "<Figure size 432x288 with 1 Axes>"
            ]
          },
          "metadata": {
            "tags": [],
            "needs_background": "light"
          }
        }
      ]
    },
    {
      "cell_type": "code",
      "metadata": {
        "id": "qjDlhYMjriUv",
        "colab_type": "code",
        "colab": {
          "base_uri": "https://localhost:8080/",
          "height": 304
        },
        "outputId": "79ebad4a-14cb-437e-c848-5465c3b22f3e"
      },
      "source": [
        "sns.scatterplot(x='CLFPRF', y='AHE82', hue='Year', data=table_7)"
      ],
      "execution_count": 18,
      "outputs": [
        {
          "output_type": "execute_result",
          "data": {
            "text/plain": [
              "<matplotlib.axes._subplots.AxesSubplot at 0x7fa645f56748>"
            ]
          },
          "metadata": {
            "tags": []
          },
          "execution_count": 18
        },
        {
          "output_type": "display_data",
          "data": {
            "image/png": "[encoded data removed]",
            "text/plain": [
              "<Figure size 432x288 with 1 Axes>"
            ]
          },
          "metadata": {
            "tags": [],
            "needs_background": "light"
          }
        }
      ]
    },
    {
      "cell_type": "markdown",
      "metadata": {
        "id": "EfKy9xAusJB1",
        "colab_type": "text"
      },
      "source": [
        "There seems to be an opposite relationship between male and female labour participation rates and the average hourly earnings:\n",
        "- over the years, the average earnigs had increased (apart from the late 1990s where it's fell significantly, likely due to recession)\n",
        "- when the economy went into recession, average hourly earnings fell and as a result a lot of men dropped out of the labour force (resulting in falling participation rates). But when the economy recovered, these men didn't come back to the labour force.\n",
        "- On the contrary, when the economy recovered in the 90s, average earning increased and women were the ones that entered the labour force."
      ]
    },
    {
      "cell_type": "markdown",
      "metadata": {
        "id": "3Ls2ipgZsiMm",
        "colab_type": "text"
      },
      "source": [
        "#### **d. Can you plot the labour force participation rate against the unemployment rate and the average hourly earnings simultaneously? If not, how would you verbalise the relationship amongst the three variables?**"
      ]
    },
    {
      "cell_type": "code",
      "metadata": {
        "id": "9mjQdrLdrwR5",
        "colab_type": "code",
        "colab": {
          "base_uri": "https://localhost:8080/",
          "height": 584
        },
        "outputId": "9ef02683-9bdf-4533-dc5f-4abdef649d14"
      },
      "source": [
        "qn14d_f = table_7[['CLFPRF', 'AHE82', 'UNRF']]\n",
        "sns.pairplot(qn14d_f)"
      ],
      "execution_count": 24,
      "outputs": [
        {
          "output_type": "execute_result",
          "data": {
            "text/plain": [
              "<seaborn.axisgrid.PairGrid at 0x7fa649020f60>"
            ]
          },
          "metadata": {
            "tags": []
          },
          "execution_count": 24
        },
        {
          "output_type": "display_data",
          "data": {
            "image/png": "[encoded data removed]",
            "text/plain": [
              "<Figure size 540x540 with 12 Axes>"
            ]
          },
          "metadata": {
            "tags": [],
            "needs_background": "light"
          }
        }
      ]
    },
    {
      "cell_type": "markdown",
      "metadata": {
        "id": "iRw4r7DbZoSg",
        "colab_type": "text"
      },
      "source": [
        "## **Question 15:**\n",
        "\n",
        "**`table_8` gives data on expenditure on food and total expenditure, measured in rupees for a sample of 55 rural households from India. (In early 2000, a U.S. dollar was about 40 indian rupees).**"
      ]
    },
    {
      "cell_type": "markdown",
      "metadata": {
        "id": "3HW_O3UGxFr9",
        "colab_type": "text"
      },
      "source": [
        "#### **a. Plot the data, using vertical axis for the expenditure on food and the horizontal axis for the total expenditure, and sketch a regression line through the scatter points**"
      ]
    },
    {
      "cell_type": "code",
      "metadata": {
        "id": "khxQwzX1xNmr",
        "colab_type": "code",
        "colab": {
          "base_uri": "https://localhost:8080/",
          "height": 302
        },
        "outputId": "eff59fb6-5ea1-4ed6-d35f-e9bf98f76e8f"
      },
      "source": [
        "sns.regplot(y='FOODEXP', x='TOTALEXP', data=table_8)"
      ],
      "execution_count": 28,
      "outputs": [
        {
          "output_type": "execute_result",
          "data": {
            "text/plain": [
              "<matplotlib.axes._subplots.AxesSubplot at 0x7fa644d6ebe0>"
            ]
          },
          "metadata": {
            "tags": []
          },
          "execution_count": 28
        },
        {
          "output_type": "display_data",
          "data": {
            "image/png": "[encoded data removed]",
            "text/plain": [
              "<Figure size 432x288 with 1 Axes>"
            ]
          },
          "metadata": {
            "tags": [],
            "needs_background": "light"
          }
        }
      ]
    },
    {
      "cell_type": "markdown",
      "metadata": {
        "id": "pFY7z4LIxb1Q",
        "colab_type": "text"
      },
      "source": [
        "####**b. What broad conclusions can you draw from this example?**"
      ]
    },
    {
      "cell_type": "markdown",
      "metadata": {
        "id": "oBjjjlu8xfCA",
        "colab_type": "text"
      },
      "source": [
        "Food expenditure is positively correlated with the total expenditure.\n"
      ]
    },
    {
      "cell_type": "markdown",
      "metadata": {
        "id": "eo_9uqhnxngV",
        "colab_type": "text"
      },
      "source": [
        "#### **c. A priori, would you expect expenditure on food to increase linearly as total expenditure increases regardless of the level of total expenditure? Why or why not? You can use total expenditure as a proxy for total income.**"
      ]
    },
    {
      "cell_type": "markdown",
      "metadata": {
        "id": "PV8APun8x20I",
        "colab_type": "text"
      },
      "source": [
        "Using total expenditure as a proxy for total income, as a person's income increases, they are more likely to eat better i.e. spend more on food. Therefore we'd expect food expenditure to increase linearly with total expenditure."
      ]
    },
    {
      "cell_type": "markdown",
      "metadata": {
        "id": "DeQ-qE68Zn7M",
        "colab_type": "text"
      },
      "source": [
        "## **Question 16: `table_9` gives data on mean Scholastic Aptitude Test (SAT) scores for college-bound seniors for 1972-2007.**\n",
        "\n",
        "**These data represent the critical reading and mathematics test scores for both male and female students. The writing category was introduced in 2006. Therfore, these data re not included.**"
      ]
    },
    {
      "cell_type": "markdown",
      "metadata": {
        "id": "EwkDfmnlyTT4",
        "colab_type": "text"
      },
      "source": [
        "#### **a. Use the horizontal axis for years and the vertical axis for SAT scores to plot the critical reading and math scores for males and females separately.**"
      ]
    },
    {
      "cell_type": "code",
      "metadata": {
        "id": "AU1Yd6ZIyiYV",
        "colab_type": "code",
        "colab": {
          "base_uri": "https://localhost:8080/",
          "height": 302
        },
        "outputId": "0963ce23-096f-4fea-b7b0-e300efdcaa69"
      },
      "source": [
        "sns.scatterplot(x='Year', y='Critical Reading (Male)', data=table_9, label='Critical Reading')\n",
        "sns.scatterplot(x='Year', y='Mathematics (Male)', data=table_9, label='Mathematics')"
      ],
      "execution_count": 35,
      "outputs": [
        {
          "output_type": "execute_result",
          "data": {
            "text/plain": [
              "<matplotlib.axes._subplots.AxesSubplot at 0x7fa645130ba8>"
            ]
          },
          "metadata": {
            "tags": []
          },
          "execution_count": 35
        },
        {
          "output_type": "display_data",
          "data": {
            "image/png": "[encoded data removed]",
            "text/plain": [
              "<Figure size 432x288 with 1 Axes>"
            ]
          },
          "metadata": {
            "tags": [],
            "needs_background": "light"
          }
        }
      ]
    },
    {
      "cell_type": "code",
      "metadata": {
        "id": "f1peUzjszCNN",
        "colab_type": "code",
        "colab": {
          "base_uri": "https://localhost:8080/",
          "height": 302
        },
        "outputId": "ba505db7-a53b-4235-8845-092b8d7df0b4"
      },
      "source": [
        "sns.scatterplot(x='Year', y='Creatical Reading (Female)', data=table_9, label='Critical Reading')\n",
        "sns.scatterplot(x='Year', y='Mathematics (Female)', data=table_9, label='Mathematics')"
      ],
      "execution_count": 38,
      "outputs": [
        {
          "output_type": "execute_result",
          "data": {
            "text/plain": [
              "<matplotlib.axes._subplots.AxesSubplot at 0x7fa644cf2198>"
            ]
          },
          "metadata": {
            "tags": []
          },
          "execution_count": 38
        },
        {
          "output_type": "display_data",
          "data": {
            "image/png": "[encoded data removed]",
            "text/plain": [
              "<Figure size 432x288 with 1 Axes>"
            ]
          },
          "metadata": {
            "tags": [],
            "needs_background": "light"
          }
        }
      ]
    },
    {
      "cell_type": "markdown",
      "metadata": {
        "id": "JGm65OpFzPyH",
        "colab_type": "text"
      },
      "source": [
        "#### **b. What general conclusions can you draw from these graphs?**"
      ]
    },
    {
      "cell_type": "markdown",
      "metadata": {
        "id": "QS2aEsoIzWNc",
        "colab_type": "text"
      },
      "source": [
        "The standard of critical reading has stayed the same for both Male and Female seniors, whilst the standard of Mathematics have risen for both Male and Female seniors."
      ]
    },
    {
      "cell_type": "markdown",
      "metadata": {
        "id": "rwMdI__VzgYl",
        "colab_type": "text"
      },
      "source": [
        "#### **c. Knowing the critical reading scores of males and females, how would you go about predicting their math scores?**"
      ]
    },
    {
      "cell_type": "markdown",
      "metadata": {
        "id": "a6dJrmOYzs_2",
        "colab_type": "text"
      },
      "source": [
        "That's not possible given there's little correlationsion between mathematics and critical reading scores."
      ]
    },
    {
      "cell_type": "markdown",
      "metadata": {
        "id": "9LOgDmgrz6nc",
        "colab_type": "text"
      },
      "source": [
        "#### **d. Plot the female math scores against the male maths scores. What do you observe?**"
      ]
    },
    {
      "cell_type": "code",
      "metadata": {
        "id": "44XEutCmzPSw",
        "colab_type": "code",
        "colab": {
          "base_uri": "https://localhost:8080/",
          "height": 302
        },
        "outputId": "8bfab841-4a6d-4624-9962-435dd42795b9"
      },
      "source": [
        "sns.scatterplot(x='Mathematics (Female)', y='Mathematics (Male)', data=table_9)\n"
      ],
      "execution_count": 39,
      "outputs": [
        {
          "output_type": "execute_result",
          "data": {
            "text/plain": [
              "<matplotlib.axes._subplots.AxesSubplot at 0x7fa6447b5978>"
            ]
          },
          "metadata": {
            "tags": []
          },
          "execution_count": 39
        },
        {
          "output_type": "display_data",
          "data": {
            "image/png": "[encoded data removed]",
            "text/plain": [
              "<Figure size 432x288 with 1 Axes>"
            ]
          },
          "metadata": {
            "tags": [],
            "needs_background": "light"
          }
        }
      ]
    },
    {
      "cell_type": "markdown",
      "metadata": {
        "id": "UmpWx1a_0HAB",
        "colab_type": "text"
      },
      "source": [
        "Mathematics scores are positively correlated between male and females - they both have increased linearly over the years at about the same rate - every 5 score increase for male corresponds to 5 points increase for female. However across the board, male still have higher scores than female by about 30 points."
      ]
    },
    {
      "cell_type": "markdown",
      "metadata": {
        "id": "gLOeR1kjZnWS",
        "colab_type": "text"
      },
      "source": [
        "## **Question 17**\n",
        "**`table_10` presents data on mean SAT reasoning test scores classified by income for three kinds of tests: critical reading, mathematics, and writing. In Example 2.2, we presented Figure 2.7, which plotted mean maths scores on mean family income.**"
      ]
    },
    {
      "cell_type": "markdown",
      "metadata": {
        "id": "kB6bHrXb0o4L",
        "colab_type": "text"
      },
      "source": [
        "#### **a. Refer to Figure 2.7 and prepare a similar graph relating average critical reading scores to average family income. Compare your results with those shown in Figure 2.7**"
      ]
    },
    {
      "cell_type": "code",
      "metadata": {
        "id": "vDG4mbvZ01fa",
        "colab_type": "code",
        "colab": {
          "base_uri": "https://localhost:8080/",
          "height": 302
        },
        "outputId": "54dd69b8-57bb-4bdf-8192-af69ae66d288"
      },
      "source": [
        "q17a = table_10.copy()\n",
        "q17a['Mean Income'] = [5000, 15000, 25000, 35000, 45000, 55000, 65000, 75000, 90000, 150000]\n",
        "sns.regplot(x='Mean Income', y='Critical Reading (Mean)', data=q17a)"
      ],
      "execution_count": 43,
      "outputs": [
        {
          "output_type": "execute_result",
          "data": {
            "text/plain": [
              "<matplotlib.axes._subplots.AxesSubplot at 0x7fa644794080>"
            ]
          },
          "metadata": {
            "tags": []
          },
          "execution_count": 43
        },
        {
          "output_type": "display_data",
          "data": {
            "image/png": "[encoded data removed]",
            "text/plain": [
              "<Figure size 432x288 with 1 Axes>"
            ]
          },
          "metadata": {
            "tags": [],
            "needs_background": "light"
          }
        }
      ]
    },
    {
      "cell_type": "markdown",
      "metadata": {
        "id": "1IBF8TVV1e0q",
        "colab_type": "text"
      },
      "source": [
        "#### **b. Repeat (a), relating average writing scores to average family income and compare your results with the other two graphs.**"
      ]
    },
    {
      "cell_type": "code",
      "metadata": {
        "id": "uWIiOYe61lSt",
        "colab_type": "code",
        "colab": {
          "base_uri": "https://localhost:8080/",
          "height": 305
        },
        "outputId": "b2e8f70e-6418-4569-da98-7d74ad3e2272"
      },
      "source": [
        "sns.regplot(x='Mean Income', y='Writing (Mean)', data=q17a)"
      ],
      "execution_count": 44,
      "outputs": [
        {
          "output_type": "execute_result",
          "data": {
            "text/plain": [
              "<matplotlib.axes._subplots.AxesSubplot at 0x7fa6446b9be0>"
            ]
          },
          "metadata": {
            "tags": []
          },
          "execution_count": 44
        },
        {
          "output_type": "display_data",
          "data": {
            "image/png": "[encoded data removed]",
            "text/plain": [
              "<Figure size 432x288 with 1 Axes>"
            ]
          },
          "metadata": {
            "tags": [],
            "needs_background": "light"
          }
        }
      ]
    },
    {
      "cell_type": "markdown",
      "metadata": {
        "id": "83MpPI-H1sTZ",
        "colab_type": "text"
      },
      "source": [
        "#### **c. Looking at the three graphs, what general conclusion can you draw?**"
      ]
    },
    {
      "cell_type": "markdown",
      "metadata": {
        "id": "R9oGZuUo1xT3",
        "colab_type": "text"
      },
      "source": [
        "Average scores increases as the mean income of families increase."
      ]
    }
  ]
}